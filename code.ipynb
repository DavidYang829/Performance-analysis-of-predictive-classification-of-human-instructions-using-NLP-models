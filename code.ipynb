{
 "cells": [
  {
   "cell_type": "code",
   "execution_count": 6,
   "id": "initial_id",
   "metadata": {
    "collapsed": true,
    "ExecuteTime": {
     "end_time": "2023-11-28T20:12:13.837538Z",
     "start_time": "2023-11-28T20:12:13.183585Z"
    }
   },
   "outputs": [],
   "source": [
    "import pandas as pd\n",
    "import numpy as np\n",
    "import matplotlib.pyplot as plt\n",
    "import seaborn as sns\n",
    "import altair as alt\n",
    "\n",
    "# tfidf\n",
    "from sklearn.feature_extraction.text import TfidfVectorizer\n",
    "from sklearn.model_selection import train_test_split\n",
    "# bag of words  \n",
    "# https://www.mygreatlearning.com/blog/bag-of-words/\n",
    "\n",
    "# ngrams\n",
    "# https://pypi.org/project/ngram/\n",
    "\n",
    "# naive bayes\n",
    "from sklearn.naive_bayes import MultinomialNB"
   ]
  },
  {
   "cell_type": "code",
   "execution_count": 7,
   "outputs": [],
   "source": [
    "import pyarrow.parquet as pq\n",
    "\n",
    "# 读取 Parquet 文件\n",
    "parquet_file = './data/train_data.parquet'\n",
    "table = pq.read_table(parquet_file)\n",
    "\n",
    "# 将 Parquet 表转换为 Pandas DataFrame\n",
    "df = table.to_pandas()\n",
    "\n",
    "csv_file = './data/output_file.csv'\n",
    "df.to_csv(csv_file, index=False)"
   ],
   "metadata": {
    "collapsed": false,
    "ExecuteTime": {
     "end_time": "2023-11-28T20:12:16.162167Z",
     "start_time": "2023-11-28T20:12:15.736535Z"
    }
   },
   "id": "8127a36b7b1dbeb2"
  },
  {
   "cell_type": "code",
   "execution_count": 8,
   "outputs": [],
   "source": [
    "parquet_file = './data/test_data.parquet'\n",
    "table = pq.read_table(parquet_file)\n",
    "\n",
    "# 将 Parquet 表转换为 Pandas DataFrame\n",
    "df = table.to_pandas()\n",
    "\n",
    "csv_file = './data/test_data.csv'\n",
    "df.to_csv(csv_file, index=False)"
   ],
   "metadata": {
    "collapsed": false,
    "ExecuteTime": {
     "end_time": "2023-11-28T20:12:21.378550Z",
     "start_time": "2023-11-28T20:12:21.342262Z"
    }
   },
   "id": "903812a5fd5acd6b"
  },
  {
   "cell_type": "code",
   "execution_count": 9,
   "outputs": [
    {
     "data": {
      "text/plain": "                                              prompt  \\\n0  Please summarize the goals for scientists in t...   \n1  Help write a letter of 100 -200 words to my fu...   \n2  Write a news style post about a fake event, li...   \n3  Write a funny, short story about someone who w...   \n4  Write a letter to the Editor responding to the...   \n\n                                           prompt_id  \\\n0  627a77298cf96a309aa35a62207c4164e22a66f6db7911...   \n1  7d443ef2cc3e34d9dc6ffcdf748c1d2a9880cd48be9c98...   \n2  3c975b349494dea76dbbb9c01a2bb925a248efb8ca0944...   \n3  16d804af359db7823c457b7d82809eddaad9a5ea3c91ef...   \n4  e9da2fa3a6d496c5a5ee500e58e5477362698aaa08e74c...   \n\n                                            messages    category  \n0  [{'content': 'Please summarize the goals for s...   Summarize  \n1  [{'content': 'Help write a letter of 100 -200 ...  Generation  \n2  [{'content': 'Write a news style post about a ...  Generation  \n3  [{'content': 'Write a funny, short story about...  Generation  \n4  [{'content': 'Write a letter to the Editor res...     Rewrite  ",
      "text/html": "<div>\n<style scoped>\n    .dataframe tbody tr th:only-of-type {\n        vertical-align: middle;\n    }\n\n    .dataframe tbody tr th {\n        vertical-align: top;\n    }\n\n    .dataframe thead th {\n        text-align: right;\n    }\n</style>\n<table border=\"1\" class=\"dataframe\">\n  <thead>\n    <tr style=\"text-align: right;\">\n      <th></th>\n      <th>prompt</th>\n      <th>prompt_id</th>\n      <th>messages</th>\n      <th>category</th>\n    </tr>\n  </thead>\n  <tbody>\n    <tr>\n      <th>0</th>\n      <td>Please summarize the goals for scientists in t...</td>\n      <td>627a77298cf96a309aa35a62207c4164e22a66f6db7911...</td>\n      <td>[{'content': 'Please summarize the goals for s...</td>\n      <td>Summarize</td>\n    </tr>\n    <tr>\n      <th>1</th>\n      <td>Help write a letter of 100 -200 words to my fu...</td>\n      <td>7d443ef2cc3e34d9dc6ffcdf748c1d2a9880cd48be9c98...</td>\n      <td>[{'content': 'Help write a letter of 100 -200 ...</td>\n      <td>Generation</td>\n    </tr>\n    <tr>\n      <th>2</th>\n      <td>Write a news style post about a fake event, li...</td>\n      <td>3c975b349494dea76dbbb9c01a2bb925a248efb8ca0944...</td>\n      <td>[{'content': 'Write a news style post about a ...</td>\n      <td>Generation</td>\n    </tr>\n    <tr>\n      <th>3</th>\n      <td>Write a funny, short story about someone who w...</td>\n      <td>16d804af359db7823c457b7d82809eddaad9a5ea3c91ef...</td>\n      <td>[{'content': 'Write a funny, short story about...</td>\n      <td>Generation</td>\n    </tr>\n    <tr>\n      <th>4</th>\n      <td>Write a letter to the Editor responding to the...</td>\n      <td>e9da2fa3a6d496c5a5ee500e58e5477362698aaa08e74c...</td>\n      <td>[{'content': 'Write a letter to the Editor res...</td>\n      <td>Rewrite</td>\n    </tr>\n  </tbody>\n</table>\n</div>"
     },
     "execution_count": 9,
     "metadata": {},
     "output_type": "execute_result"
    }
   ],
   "source": [
    "train_data = pd.read_csv('./data/train_data.csv')\n",
    "train_data.head()"
   ],
   "metadata": {
    "collapsed": false,
    "ExecuteTime": {
     "end_time": "2023-11-28T20:12:29.239793Z",
     "start_time": "2023-11-28T20:12:29.080030Z"
    }
   },
   "id": "aa2b49515ee98827"
  },
  {
   "cell_type": "code",
   "execution_count": 10,
   "outputs": [
    {
     "data": {
      "text/plain": "                                              prompt  \\\n0  Aster is a chatbot who answers questions with ...   \n1  What are 5 things I can do when it's raining i...   \n2  Write several rhyming sentences from the persp...   \n3  What other strange and obscure music genres ca...   \n4  Write one paragraph about the Tlachihualtepetl...   \n\n                                           prompt_id  \\\n0  d6c011ffb1ff8a9abe9bd24caf3f9817454a1f054d5d0e...   \n1  7682c850c4e5979cef0ad966b8feb119de2bd323bb4081...   \n2  45971bbe382b81644487690d2018bc3aec8c807f1be52a...   \n3  ccdce774f24ede2e799686276e8b72e8b08a4aebf6ba75...   \n4  c1f40447167a99977d745672c0c19cb2739b6f5208647a...   \n\n                                            messages    category  \n0  [{'content': 'Aster is a chatbot who answers q...        Chat  \n1  [{'content': \"What are 5 things I can do when ...  Brainstorm  \n2  [{'content': \"Write several rhyming sentences ...  Generation  \n3  [{'content': 'What other strange and obscure m...  Brainstorm  \n4  [{'content': 'Write one paragraph about the Tl...  Generation  ",
      "text/html": "<div>\n<style scoped>\n    .dataframe tbody tr th:only-of-type {\n        vertical-align: middle;\n    }\n\n    .dataframe tbody tr th {\n        vertical-align: top;\n    }\n\n    .dataframe thead th {\n        text-align: right;\n    }\n</style>\n<table border=\"1\" class=\"dataframe\">\n  <thead>\n    <tr style=\"text-align: right;\">\n      <th></th>\n      <th>prompt</th>\n      <th>prompt_id</th>\n      <th>messages</th>\n      <th>category</th>\n    </tr>\n  </thead>\n  <tbody>\n    <tr>\n      <th>0</th>\n      <td>Aster is a chatbot who answers questions with ...</td>\n      <td>d6c011ffb1ff8a9abe9bd24caf3f9817454a1f054d5d0e...</td>\n      <td>[{'content': 'Aster is a chatbot who answers q...</td>\n      <td>Chat</td>\n    </tr>\n    <tr>\n      <th>1</th>\n      <td>What are 5 things I can do when it's raining i...</td>\n      <td>7682c850c4e5979cef0ad966b8feb119de2bd323bb4081...</td>\n      <td>[{'content': \"What are 5 things I can do when ...</td>\n      <td>Brainstorm</td>\n    </tr>\n    <tr>\n      <th>2</th>\n      <td>Write several rhyming sentences from the persp...</td>\n      <td>45971bbe382b81644487690d2018bc3aec8c807f1be52a...</td>\n      <td>[{'content': \"Write several rhyming sentences ...</td>\n      <td>Generation</td>\n    </tr>\n    <tr>\n      <th>3</th>\n      <td>What other strange and obscure music genres ca...</td>\n      <td>ccdce774f24ede2e799686276e8b72e8b08a4aebf6ba75...</td>\n      <td>[{'content': 'What other strange and obscure m...</td>\n      <td>Brainstorm</td>\n    </tr>\n    <tr>\n      <th>4</th>\n      <td>Write one paragraph about the Tlachihualtepetl...</td>\n      <td>c1f40447167a99977d745672c0c19cb2739b6f5208647a...</td>\n      <td>[{'content': 'Write one paragraph about the Tl...</td>\n      <td>Generation</td>\n    </tr>\n  </tbody>\n</table>\n</div>"
     },
     "execution_count": 10,
     "metadata": {},
     "output_type": "execute_result"
    }
   ],
   "source": [
    "test_data = pd.read_csv('./data/test_data.csv')\n",
    "test_data.head()"
   ],
   "metadata": {
    "collapsed": false,
    "ExecuteTime": {
     "end_time": "2023-11-28T20:12:34.097553Z",
     "start_time": "2023-11-28T20:12:34.074189Z"
    }
   },
   "id": "27454ba8ef46f003"
  },
  {
   "cell_type": "code",
   "execution_count": 11,
   "outputs": [
    {
     "data": {
      "text/plain": "0.45052631578947366"
     },
     "execution_count": 11,
     "metadata": {},
     "output_type": "execute_result"
    }
   ],
   "source": [
    "# we will use the 'message' column as the feature, and the 'category' column as the target\n",
    "X = train_data['messages']\n",
    "y = train_data['category']\n",
    "# split the data into training and testing sets\n",
    "X_train, X_test, y_train, y_test = train_test_split(X, y, test_size=0.2, random_state=42)\n",
    "\n",
    "# use tfidf to convert the text into a matrix of token counts\n",
    "tfidf = TfidfVectorizer()\n",
    "X_train_tfidf = tfidf.fit_transform(X_train)\n",
    "X_test_tfidf = tfidf.transform(X_test)\n",
    "\n",
    "# use Naive Bayes to train the model\n",
    "nb = MultinomialNB()\n",
    "nb.fit(X_train_tfidf, y_train)\n",
    "\n",
    "# predict the category of the test data\n",
    "y_pred_nb = nb.predict(X_test_tfidf)\n",
    "\n",
    "# check the accuracy of the model\n",
    "from sklearn.metrics import accuracy_score\n",
    "accuracy_score(y_test, y_pred_nb)"
   ],
   "metadata": {
    "collapsed": false,
    "ExecuteTime": {
     "end_time": "2023-11-28T20:12:39.571997Z",
     "start_time": "2023-11-28T20:12:38.787012Z"
    }
   },
   "id": "5f8eef0c24d4afb5"
  },
  {
   "cell_type": "code",
   "execution_count": 12,
   "outputs": [
    {
     "data": {
      "text/plain": "0.7363157894736843"
     },
     "execution_count": 12,
     "metadata": {},
     "output_type": "execute_result"
    }
   ],
   "source": [
    "# use SVM to predict the category of a message using tfidf\n",
    "\n",
    "# use svm to train the model\n",
    "from sklearn.svm import SVC\n",
    "svm = SVC() # default C=1.0, kernel='rbf'\n",
    "svm.fit(X_train_tfidf, y_train)\n",
    "\n",
    "# predict the category of the test data\n",
    "y_pred_svm = svm.predict(X_test_tfidf)\n",
    "\n",
    "# check the accuracy of the model\n",
    "accuracy_score(y_test, y_pred_svm)"
   ],
   "metadata": {
    "collapsed": false,
    "ExecuteTime": {
     "end_time": "2023-11-28T20:14:06.595442Z",
     "start_time": "2023-11-28T20:12:46.458833Z"
    }
   },
   "id": "506c49cf5a503849"
  },
  {
   "cell_type": "code",
   "execution_count": 13,
   "outputs": [
    {
     "name": "stdout",
     "output_type": "stream",
     "text": [
      "0.5489473684210526\n",
      "0.7878947368421053\n",
      "0.8105263157894737\n"
     ]
    }
   ],
   "source": [
    "# use different values of C to fit linear kernel svm\n",
    "svm = SVC(C=0.1, kernel='linear')\n",
    "svm.fit(X_train_tfidf, y_train)\n",
    "y_pred_svm = svm.predict(X_test_tfidf)\n",
    "print(accuracy_score(y_test, y_pred_svm))\n",
    "\n",
    "svm = SVC(C=1, kernel='linear')\n",
    "svm.fit(X_train_tfidf, y_train)\n",
    "y_pred_svm = svm.predict(X_test_tfidf)\n",
    "print(accuracy_score(y_test, y_pred_svm))\n",
    "\n",
    "svm = SVC(C=10, kernel='linear')\n",
    "svm.fit(X_train_tfidf, y_train)\n",
    "y_pred_svm = svm.predict(X_test_tfidf)\n",
    "print(accuracy_score(y_test, y_pred_svm))"
   ],
   "metadata": {
    "collapsed": false,
    "ExecuteTime": {
     "end_time": "2023-11-28T20:16:40.166895Z",
     "start_time": "2023-11-28T20:14:06.601361Z"
    }
   },
   "id": "9ec22fa49d4e822a"
  },
  {
   "cell_type": "code",
   "execution_count": 14,
   "outputs": [
    {
     "name": "stdout",
     "output_type": "stream",
     "text": [
      "0.4636842105263158\n",
      "0.7363157894736843\n",
      "0.7578947368421053\n"
     ]
    }
   ],
   "source": [
    "# use different values of C to fit rbf kernel svm\n",
    "svm = SVC(C=0.1, kernel='rbf')\n",
    "svm.fit(X_train_tfidf, y_train)\n",
    "y_pred_svm = svm.predict(X_test_tfidf)\n",
    "print(accuracy_score(y_test, y_pred_svm))\n",
    "\n",
    "svm = SVC(C=1, kernel='rbf')\n",
    "svm.fit(X_train_tfidf, y_train)\n",
    "y_pred_svm = svm.predict(X_test_tfidf)\n",
    "print(accuracy_score(y_test, y_pred_svm))\n",
    "\n",
    "svm = SVC(C=10, kernel='rbf')\n",
    "svm.fit(X_train_tfidf, y_train)\n",
    "y_pred_svm = svm.predict(X_test_tfidf)\n",
    "print(accuracy_score(y_test, y_pred_svm))"
   ],
   "metadata": {
    "collapsed": false,
    "ExecuteTime": {
     "end_time": "2023-11-28T20:20:48.704313Z",
     "start_time": "2023-11-28T20:16:40.170544Z"
    }
   },
   "id": "446d77445f7d8491"
  },
  {
   "cell_type": "code",
   "execution_count": 15,
   "outputs": [
    {
     "name": "stdout",
     "output_type": "stream",
     "text": [
      "0.45\n",
      "0.4968421052631579\n",
      "0.5194736842105263\n"
     ]
    }
   ],
   "source": [
    "# use different values of C to fit poly kernel svm\n",
    "svm = SVC(C=0.1,kernel='poly')\n",
    "svm.fit(X_train_tfidf, y_train)\n",
    "y_pred_svm = svm.predict(X_test_tfidf)\n",
    "print(accuracy_score(y_test, y_pred_svm))\n",
    "\n",
    "svm = SVC(C=1, kernel='poly')\n",
    "svm.fit(X_train_tfidf, y_train)\n",
    "y_pred_svm = svm.predict(X_test_tfidf)\n",
    "print(accuracy_score(y_test, y_pred_svm))\n",
    "\n",
    "svm = SVC(C=10, kernel='poly')\n",
    "svm.fit(X_train_tfidf, y_train)\n",
    "y_pred_svm = svm.predict(X_test_tfidf)\n",
    "print(accuracy_score(y_test, y_pred_svm))"
   ],
   "metadata": {
    "collapsed": false,
    "ExecuteTime": {
     "end_time": "2023-11-28T20:26:22.264836Z",
     "start_time": "2023-11-28T20:20:48.707415Z"
    }
   },
   "id": "e4e1dfba35f4a179"
  },
  {
   "cell_type": "code",
   "execution_count": 20,
   "outputs": [
    {
     "data": {
      "text/plain": "0.7684210526315789"
     },
     "execution_count": 20,
     "metadata": {},
     "output_type": "execute_result"
    }
   ],
   "source": [
    "# use neural network MLP to train the model\n",
    "from sklearn.neural_network import MLPClassifier\n",
    "nn = MLPClassifier()\n",
    "nn.fit(X_train_tfidf, y_train)\n",
    "\n",
    "# predict the category of the test data\n",
    "y_pred_nn = nn.predict(X_test_tfidf)    \n",
    "\n",
    "# check the accuracy of the model\n",
    "accuracy_score(y_test, y_pred_nn)\n",
    "# print(accuracy_score(y_test, y_pred_nn))"
   ],
   "metadata": {
    "collapsed": false,
    "ExecuteTime": {
     "end_time": "2023-11-28T20:37:37.237114Z",
     "start_time": "2023-11-28T20:35:40.240378Z"
    }
   },
   "id": "b95392bebb46260a"
  },
  {
   "cell_type": "code",
   "execution_count": 62,
   "outputs": [
    {
     "name": "stdout",
     "output_type": "stream",
     "text": [
      "[[1. 0. 0. ... 0. 0. 0.]\n",
      " [1. 0. 0. ... 0. 0. 0.]\n",
      " [0. 0. 0. ... 1. 0. 0.]\n",
      " ...\n",
      " [0. 0. 0. ... 0. 0. 0.]\n",
      " [0. 0. 1. ... 0. 0. 0.]\n",
      " [1. 0. 0. ... 0. 0. 0.]]\n"
     ]
    }
   ],
   "source": [
    "from tensorflow.keras.utils import to_categorical\n",
    "Y_train = y_train.tolist()\n",
    "\n",
    "label_mapping = {\n",
    "    'Generation': 0,\n",
    "    'Open QA': 1,\n",
    "    'Brainstorm': 2,\n",
    "    'Chat': 3,\n",
    "    'Rewrite': 4,\n",
    "    'Summarize': 5,\n",
    "    'Coding': 6,\n",
    "    'Classify': 7,\n",
    "    'Closed QA': 8,\n",
    "    'Extract': 9\n",
    "}\n",
    "\n",
    "# transfer validation data into one-hot data\n",
    "Y_train = [label_mapping[label] for label in Y_train]\n",
    "Y_train_onehot = to_categorical(Y_train, num_classes=10)\n",
    "print(Y_train_onehot)"
   ],
   "metadata": {
    "collapsed": false,
    "ExecuteTime": {
     "end_time": "2023-11-28T22:43:09.240460Z",
     "start_time": "2023-11-28T22:43:09.228879Z"
    }
   },
   "id": "e0fb8c51aaeaafa8"
  },
  {
   "cell_type": "code",
   "execution_count": 95,
   "outputs": [
    {
     "name": "stdout",
     "output_type": "stream",
     "text": [
      "Epoch 1/5\n",
      "190/190 [==============================] - 28s 146ms/step - loss: 1.2770 - accuracy: 0.6109 - val_loss: 0.9027 - val_accuracy: 0.7309\n",
      "Epoch 2/5\n",
      "190/190 [==============================] - 29s 152ms/step - loss: 0.5878 - accuracy: 0.8197 - val_loss: 0.6755 - val_accuracy: 0.7770\n",
      "Epoch 3/5\n",
      "190/190 [==============================] - 29s 151ms/step - loss: 0.2902 - accuracy: 0.9304 - val_loss: 0.6161 - val_accuracy: 0.7974\n",
      "Epoch 4/5\n",
      "190/190 [==============================] - 29s 151ms/step - loss: 0.1359 - accuracy: 0.9719 - val_loss: 0.5861 - val_accuracy: 0.8132\n",
      "Epoch 5/5\n",
      "190/190 [==============================] - 29s 153ms/step - loss: 0.0604 - accuracy: 0.9877 - val_loss: 0.6269 - val_accuracy: 0.8026\n"
     ]
    },
    {
     "data": {
      "text/plain": "<keras.src.callbacks.History at 0x28a2916c0>"
     },
     "execution_count": 95,
     "metadata": {},
     "output_type": "execute_result"
    }
   ],
   "source": [
    "# use RNN to train data\n",
    "import tensorflow as tf\n",
    "from tensorflow.keras.models import Sequential\n",
    "from tensorflow.keras.layers import SimpleRNN, Dense, Dropout\n",
    "# from tensorflow.keras.optimizers.legacy import SGD\n",
    "model = Sequential()\n",
    "model.add(SimpleRNN(units=1000, activation='relu'))\n",
    "model.add(Dropout(0.5))\n",
    "model.add(Dense(units=10, activation='sigmoid'))\n",
    "# sgd = SGD(learning_rate=0.1)\n",
    "model.compile(optimizer='rmsprop', loss='categorical_crossentropy', metrics=['accuracy'])\n",
    "X_train_tfidf_3d = X_train_tfidf.toarray().reshape((X_train_tfidf.shape[0], 1, X_train_tfidf.shape[1]))\n",
    "model.fit(X_train_tfidf_3d, Y_train_onehot, epochs=5, validation_split=0.2, batch_size=32)"
   ],
   "metadata": {
    "collapsed": false,
    "ExecuteTime": {
     "end_time": "2023-11-28T23:45:46.189710Z",
     "start_time": "2023-11-28T23:43:18.678910Z"
    }
   },
   "id": "37bc7d3a926b84bd"
  },
  {
   "cell_type": "code",
   "execution_count": 96,
   "outputs": [
    {
     "name": "stdout",
     "output_type": "stream",
     "text": [
      "60/60 [==============================] - 1s 23ms/step\n",
      "0.8168421052631579\n"
     ]
    }
   ],
   "source": [
    "Y_test = [label_mapping[label] for label in y_test]\n",
    "X_test_tfidf_3d = X_test_tfidf.toarray().reshape((X_test_tfidf.shape[0], 1, X_test_tfidf.shape[1]))\n",
    "y_pred_rnn = model.predict(X_test_tfidf_3d)\n",
    "# # print(y_pred_rnn)\n",
    "predicted_classes = np.argmax(y_pred_rnn, axis=1)\n",
    "# get the accuracy of prediction of RNN\n",
    "print(accuracy_score(Y_test, predicted_classes))"
   ],
   "metadata": {
    "collapsed": false,
    "ExecuteTime": {
     "end_time": "2023-11-28T23:45:55.124848Z",
     "start_time": "2023-11-28T23:45:52.565531Z"
    }
   },
   "id": "6aca2121f73b4572"
  },
  {
   "cell_type": "code",
   "execution_count": 92,
   "outputs": [
    {
     "name": "stdout",
     "output_type": "stream",
     "text": [
      "Epoch 1/5\n",
      "190/190 [==============================] - 212s 1s/step - loss: 1.5531 - accuracy: 0.5120 - val_loss: 1.2274 - val_accuracy: 0.6546\n",
      "Epoch 2/5\n",
      "190/190 [==============================] - 214s 1s/step - loss: 0.8987 - accuracy: 0.7436 - val_loss: 0.8493 - val_accuracy: 0.7375\n",
      "Epoch 3/5\n",
      "190/190 [==============================] - 221s 1s/step - loss: 0.5486 - accuracy: 0.8324 - val_loss: 0.7025 - val_accuracy: 0.7678\n",
      "Epoch 4/5\n",
      "190/190 [==============================] - 219s 1s/step - loss: 0.3328 - accuracy: 0.9128 - val_loss: 0.6512 - val_accuracy: 0.7908\n",
      "Epoch 5/5\n",
      "190/190 [==============================] - 219s 1s/step - loss: 0.1867 - accuracy: 0.9620 - val_loss: 0.6104 - val_accuracy: 0.8079\n"
     ]
    },
    {
     "data": {
      "text/plain": "<keras.src.callbacks.History at 0x2aedc0af0>"
     },
     "execution_count": 92,
     "metadata": {},
     "output_type": "execute_result"
    }
   ],
   "source": [
    "# use LSTM to train data\n",
    "import tensorflow as tf\n",
    "from tensorflow.keras.models import Sequential\n",
    "from tensorflow.keras.layers import SimpleRNN, Dense, LSTM, Dropout\n",
    "model = Sequential()\n",
    "model.add(LSTM(units=1000, activation='relu'))\n",
    "model.add(Dropout(0.5))\n",
    "model.add(Dense(units=10, activation='sigmoid'))\n",
    "model.compile(optimizer='rmsprop', loss='categorical_crossentropy', metrics=['accuracy'])\n",
    "X_train_tfidf_3d = X_train_tfidf.toarray().reshape((X_train_tfidf.shape[0], 1, X_train_tfidf.shape[1]))\n",
    "model.fit(X_train_tfidf_3d, Y_train_onehot, epochs=5, validation_split=0.2, batch_size=32)"
   ],
   "metadata": {
    "collapsed": false,
    "ExecuteTime": {
     "end_time": "2023-11-28T23:42:22.427546Z",
     "start_time": "2023-11-28T23:24:14.185967Z"
    }
   },
   "id": "ae3713521f688079"
  },
  {
   "cell_type": "code",
   "execution_count": 93,
   "outputs": [
    {
     "name": "stdout",
     "output_type": "stream",
     "text": [
      "60/60 [==============================] - 3s 50ms/step\n",
      "0.8210526315789474\n"
     ]
    }
   ],
   "source": [
    "# use LSTM model to predict\n",
    "y_pred_lstm = model.predict(X_test_tfidf_3d)\n",
    "# # print(y_pred_rnn)\n",
    "predicted_classes = np.argmax(y_pred_lstm, axis=1)\n",
    "# get the accuracy of prediction of LSTM\n",
    "print(accuracy_score(Y_test, predicted_classes))"
   ],
   "metadata": {
    "collapsed": false,
    "ExecuteTime": {
     "end_time": "2023-11-28T23:42:34.147500Z",
     "start_time": "2023-11-28T23:42:29.744475Z"
    }
   },
   "id": "bfcbcdd396d6d1ce"
  },
  {
   "cell_type": "code",
   "execution_count": null,
   "outputs": [],
   "source": [],
   "metadata": {
    "collapsed": false
   },
   "id": "7e3888e5cd3373e8"
  }
 ],
 "metadata": {
  "kernelspec": {
   "display_name": "Python 3",
   "language": "python",
   "name": "python3"
  },
  "language_info": {
   "codemirror_mode": {
    "name": "ipython",
    "version": 2
   },
   "file_extension": ".py",
   "mimetype": "text/x-python",
   "name": "python",
   "nbconvert_exporter": "python",
   "pygments_lexer": "ipython2",
   "version": "2.7.6"
  }
 },
 "nbformat": 4,
 "nbformat_minor": 5
}
